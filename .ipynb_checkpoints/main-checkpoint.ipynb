{
 "cells": [
  {
   "cell_type": "markdown",
   "metadata": {
    "toc": true
   },
   "source": [
    "<h1>Table of Contents<span class=\"tocSkip\"></span></h1>\n",
    "<div class=\"toc\"><ul class=\"toc-item\"><li><span><a href=\"#Functions\" data-toc-modified-id=\"Functions-1\"><span class=\"toc-item-num\">1&nbsp;&nbsp;</span>Functions</a></span><ul class=\"toc-item\"><li><span><a href=\"#1.-Write-a-function-that-returns-the-greater-of-two-numbers\" data-toc-modified-id=\"1.-Write-a-function-that-returns-the-greater-of-two-numbers-1.1\"><span class=\"toc-item-num\">1.1&nbsp;&nbsp;</span>1. Write a function that returns the greater of two numbers</a></span></li><li><span><a href=\"#2.-Now-write-a-function-that-returns-the-largest-element-on-a-list\" data-toc-modified-id=\"2.-Now-write-a-function-that-returns-the-largest-element-on-a-list-1.2\"><span class=\"toc-item-num\">1.2&nbsp;&nbsp;</span>2. Now write a function that returns the largest element on a list</a></span></li><li><span><a href=\"#3.-Write-a-function-that-sums-all-the-elements-on-a-list\" data-toc-modified-id=\"3.-Write-a-function-that-sums-all-the-elements-on-a-list-1.3\"><span class=\"toc-item-num\">1.3&nbsp;&nbsp;</span>3. Write a function that sums all the elements on a list</a></span></li><li><span><a href=\"#4.-Write-another-function-that-multiplies-all-the-elements-on-a-list\" data-toc-modified-id=\"4.-Write-another-function-that-multiplies-all-the-elements-on-a-list-1.4\"><span class=\"toc-item-num\">1.4&nbsp;&nbsp;</span>4. Write another function that multiplies all the elements on a list</a></span></li><li><span><a href=\"#5.-Now-combine-those-two-ideas-and-write-a-function-that-receives-a-list-and-either-&quot;+&quot;-or-&quot;*&quot;-and-outputs-acordingly\" data-toc-modified-id=\"5.-Now-combine-those-two-ideas-and-write-a-function-that-receives-a-list-and-either-&quot;+&quot;-or-&quot;*&quot;-and-outputs-acordingly-1.5\"><span class=\"toc-item-num\">1.5&nbsp;&nbsp;</span>5. Now combine those two ideas and write a function that receives a list and either \"+\" or \"*\" and outputs acordingly</a></span></li><li><span><a href=\"#6.-Write-a-function-that-returns-the-factorial-of-a-number.\" data-toc-modified-id=\"6.-Write-a-function-that-returns-the-factorial-of-a-number.-1.6\"><span class=\"toc-item-num\">1.6&nbsp;&nbsp;</span>6. Write a function that returns the factorial of a number.</a></span></li><li><span><a href=\"#7.-Write-a-function-that-takes-a-list-and-returns-a-list-of-the-unique-values.\" data-toc-modified-id=\"7.-Write-a-function-that-takes-a-list-and-returns-a-list-of-the-unique-values.-1.7\"><span class=\"toc-item-num\">1.7&nbsp;&nbsp;</span>7. Write a function that takes a list and returns a list of the unique values.</a></span></li><li><span><a href=\"#8.-Write-a-function-that-returns-the-mode-of-a-list,-i.e.:-the-element-that-appears-the-most-times.\" data-toc-modified-id=\"8.-Write-a-function-that-returns-the-mode-of-a-list,-i.e.:-the-element-that-appears-the-most-times.-1.8\"><span class=\"toc-item-num\">1.8&nbsp;&nbsp;</span>8. Write a function that returns the mode of a list, i.e.: the element that appears the most times.</a></span></li><li><span><a href=\"#9.-Write-a-function-that-calculates-the-standard-deviation-of-a-list.\" data-toc-modified-id=\"9.-Write-a-function-that-calculates-the-standard-deviation-of-a-list.-1.9\"><span class=\"toc-item-num\">1.9&nbsp;&nbsp;</span>9. Write a function that calculates the standard deviation of a list.</a></span></li><li><span><a href=\"#10.-Write-a-function-to-check-if-a-string-is-a-pangram,-i.e.:-if-it-contains-all-the-letters-of-the-alphabet-at-least-once.-Mind-that-the-strings-may-contain-characters-that-are-not-letters.\" data-toc-modified-id=\"10.-Write-a-function-to-check-if-a-string-is-a-pangram,-i.e.:-if-it-contains-all-the-letters-of-the-alphabet-at-least-once.-Mind-that-the-strings-may-contain-characters-that-are-not-letters.-1.10\"><span class=\"toc-item-num\">1.10&nbsp;&nbsp;</span>10. Write a function to check if a string is a pangram, i.e.: if it contains all the letters of the alphabet at least once. Mind that the strings may contain characters that are not letters.</a></span></li><li><span><a href=\"#11.-Write-a-function-that-receives-a-string-of-comma-separated-words-and-returns-a-string-of-comma-separated-words-sorted-alphabetically.\" data-toc-modified-id=\"11.-Write-a-function-that-receives-a-string-of-comma-separated-words-and-returns-a-string-of-comma-separated-words-sorted-alphabetically.-1.11\"><span class=\"toc-item-num\">1.11&nbsp;&nbsp;</span>11. Write a function that receives a string of comma separated words and returns a string of comma separated words sorted alphabetically.</a></span></li><li><span><a href=\"#12.-Write-a-function-to-check-if-a-given-password-is-strong-(at-least-8-characters,-at-least-one-lower-case,-at-least-one-upper-case,-at-least-one-number-and-at-least-one-special-character).-It-should-output-True-if-strong-and-False-if-not.\" data-toc-modified-id=\"12.-Write-a-function-to-check-if-a-given-password-is-strong-(at-least-8-characters,-at-least-one-lower-case,-at-least-one-upper-case,-at-least-one-number-and-at-least-one-special-character).-It-should-output-True-if-strong-and-False-if-not.-1.12\"><span class=\"toc-item-num\">1.12&nbsp;&nbsp;</span>12. Write a function to check if a given password is strong (at least 8 characters, at least one lower case, at least one upper case, at least one number and at least one special character). It should output True if strong and False if not.</a></span></li></ul></li></ul></div>"
   ]
  },
  {
   "cell_type": "markdown",
   "metadata": {},
   "source": [
    "# Functions"
   ]
  },
  {
   "cell_type": "markdown",
   "metadata": {},
   "source": [
    "On this lab we will put to practice some of the concepts we have learned on this past few days.\n",
    "\n",
    "`NOTE: On this lab you should try to write all the functions yourself using only the most basic of python syntax and without functions such as len, count, sum, max, min, in, etc. Give it a try. 🧑🏻‍💻👩🏻‍💻`\n",
    "\n",
    "The cell after each exercise contains a few tests to check if your function works as expected."
   ]
  },
  {
   "cell_type": "code",
   "execution_count": 1,
   "metadata": {},
   "outputs": [],
   "source": [
    "#Run this cell\n",
    "\n",
    "from mod.testing import *\n",
    "import unittest"
   ]
  },
  {
   "cell_type": "markdown",
   "metadata": {},
   "source": [
    "## 1. Write a function that returns the greater of two numbers"
   ]
  },
  {
   "cell_type": "code",
   "execution_count": 2,
   "metadata": {},
   "outputs": [],
   "source": [
    "def greater(a,b):\n",
    "    if a > b:\n",
    "        return a\n",
    "    else:\n",
    "        return b"
   ]
  },
  {
   "cell_type": "code",
   "execution_count": 3,
   "metadata": {},
   "outputs": [
    {
     "name": "stderr",
     "output_type": "stream",
     "text": [
      "....................................................................................................\n",
      "----------------------------------------------------------------------\n",
      "Ran 100 tests in 0.067s\n",
      "\n",
      "OK\n"
     ]
    }
   ],
   "source": [
    "# This will test your function \n",
    "test_greater(greater)"
   ]
  },
  {
   "cell_type": "markdown",
   "metadata": {},
   "source": [
    "## 2. Now write a function that returns the largest element on a list"
   ]
  },
  {
   "cell_type": "code",
   "execution_count": 4,
   "metadata": {},
   "outputs": [],
   "source": [
    "def greatest(arr):\n",
    "    result = 0\n",
    "\n",
    "    for i in arr:\n",
    "        \n",
    "        if i >= result: result = i\n",
    "\n",
    "    return result"
   ]
  },
  {
   "cell_type": "code",
   "execution_count": 5,
   "metadata": {},
   "outputs": [
    {
     "name": "stderr",
     "output_type": "stream",
     "text": [
      "....................................................................................................\n",
      "----------------------------------------------------------------------\n",
      "Ran 100 tests in 0.068s\n",
      "\n",
      "OK\n"
     ]
    }
   ],
   "source": [
    "# This will test your function \n",
    "test_greatest(greatest)"
   ]
  },
  {
   "cell_type": "markdown",
   "metadata": {},
   "source": [
    "## 3. Write a function that sums all the elements on a list"
   ]
  },
  {
   "cell_type": "code",
   "execution_count": 8,
   "metadata": {},
   "outputs": [],
   "source": [
    "def sum_all(arr):\n",
    "    summand = 0\n",
    "    for i in arr:\n",
    "        summand += i\n",
    "    return summand\n",
    "        "
   ]
  },
  {
   "cell_type": "code",
   "execution_count": 9,
   "metadata": {},
   "outputs": [
    {
     "name": "stderr",
     "output_type": "stream",
     "text": [
      "....................................................................................................\n",
      "----------------------------------------------------------------------\n",
      "Ran 100 tests in 0.066s\n",
      "\n",
      "OK\n"
     ]
    }
   ],
   "source": [
    "# This will test your function \n",
    "test_sum(sum_all)"
   ]
  },
  {
   "cell_type": "markdown",
   "metadata": {},
   "source": [
    "## 4. Write another function that multiplies all the elements on a list"
   ]
  },
  {
   "cell_type": "code",
   "execution_count": 12,
   "metadata": {},
   "outputs": [],
   "source": [
    "def mult_all(arr):\n",
    "    multiplicand = 1\n",
    "    for i in arr:\n",
    "        multiplicand *= i\n",
    "    return multiplicand"
   ]
  },
  {
   "cell_type": "code",
   "execution_count": 13,
   "metadata": {},
   "outputs": [
    {
     "name": "stderr",
     "output_type": "stream",
     "text": [
      "....................................................................................................\n",
      "----------------------------------------------------------------------\n",
      "Ran 100 tests in 0.063s\n",
      "\n",
      "OK\n"
     ]
    }
   ],
   "source": [
    "# This will test your function \n",
    "test_mult(mult_all)"
   ]
  },
  {
   "cell_type": "markdown",
   "metadata": {},
   "source": [
    "## 5. Now combine those two ideas and write a function that receives a list and either \"+\" or \"*\" and outputs acordingly"
   ]
  },
  {
   "cell_type": "code",
   "execution_count": 16,
   "metadata": {},
   "outputs": [],
   "source": [
    "def oper_all(arr, oper):\n",
    "    if oper == '+':\n",
    "        return sum_all(arr)\n",
    "    else:\n",
    "        return mult_all(arr)"
   ]
  },
  {
   "cell_type": "code",
   "execution_count": 17,
   "metadata": {},
   "outputs": [
    {
     "name": "stderr",
     "output_type": "stream",
     "text": [
      "....................................................................................................\n",
      "----------------------------------------------------------------------\n",
      "Ran 100 tests in 0.071s\n",
      "\n",
      "OK\n"
     ]
    }
   ],
   "source": [
    "# This will test your function \n",
    "test_operations(oper_all)"
   ]
  },
  {
   "cell_type": "markdown",
   "metadata": {},
   "source": [
    "## 6. Write a function that returns the factorial of a number."
   ]
  },
  {
   "cell_type": "code",
   "execution_count": 20,
   "metadata": {},
   "outputs": [],
   "source": [
    "def factorial(n):\n",
    "    if n == 0 or n == 1:\n",
    "        return 1\n",
    "    else:\n",
    "        return factorial(n-1)*n"
   ]
  },
  {
   "cell_type": "code",
   "execution_count": 21,
   "metadata": {},
   "outputs": [
    {
     "name": "stderr",
     "output_type": "stream",
     "text": [
      "....................................................................................................\n",
      "----------------------------------------------------------------------\n",
      "Ran 100 tests in 0.070s\n",
      "\n",
      "OK\n"
     ]
    }
   ],
   "source": [
    "# This will test your function \n",
    "test_factorial(factorial)"
   ]
  },
  {
   "cell_type": "markdown",
   "metadata": {},
   "source": [
    "## 7. Write a function that takes a list and returns a list of the unique values.\n",
    "\n",
    "`NOTE: You cannot use set. 🤔`"
   ]
  },
  {
   "cell_type": "code",
   "execution_count": 24,
   "metadata": {},
   "outputs": [],
   "source": [
    "def unique(arr):\n",
    "    new = []\n",
    "    for i in arr:\n",
    "        if i in new:\n",
    "            continue\n",
    "        else:\n",
    "            new.append(i)\n",
    "    return new"
   ]
  },
  {
   "cell_type": "code",
   "execution_count": 25,
   "metadata": {},
   "outputs": [
    {
     "name": "stderr",
     "output_type": "stream",
     "text": [
      "....................................................................................................\n",
      "----------------------------------------------------------------------\n",
      "Ran 100 tests in 0.140s\n",
      "\n",
      "OK\n"
     ]
    }
   ],
   "source": [
    "# This will test your function \n",
    "test_unique(unique)"
   ]
  },
  {
   "cell_type": "markdown",
   "metadata": {},
   "source": [
    "## 8. Write a function that returns the mode of a list, i.e.: the element that appears the most times.\n",
    "`NOTE: You should not use count... 🧐`"
   ]
  },
  {
   "cell_type": "code",
   "execution_count": 26,
   "metadata": {},
   "outputs": [],
   "source": [
    "def mode_counter(arr):\n",
    "    freq = {}\n",
    "    for i in arr:\n",
    "        if i in freq:\n",
    "            freq[i]+=1\n",
    "        else:\n",
    "            freq[i] = 1\n",
    "    mode = ''\n",
    "    max_val = 0\n",
    "    for k,v in freq.items():\n",
    "        if max_val < v:\n",
    "            mode = k\n",
    "            max_val = v\n",
    "        else:\n",
    "            continue\n",
    "    return mode\n",
    "        "
   ]
  },
  {
   "cell_type": "code",
   "execution_count": 27,
   "metadata": {},
   "outputs": [
    {
     "name": "stderr",
     "output_type": "stream",
     "text": [
      "....................................................................................................\n",
      "----------------------------------------------------------------------\n",
      "Ran 100 tests in 0.070s\n",
      "\n",
      "OK\n"
     ]
    }
   ],
   "source": [
    "# This will test your function \n",
    "test_mode(mode_counter)"
   ]
  },
  {
   "cell_type": "markdown",
   "metadata": {},
   "source": [
    "## 9. Write a function that calculates the standard deviation of a list.\n",
    "`NOTE: Do not use any libraries or already built functions. 😉`"
   ]
  },
  {
   "cell_type": "code",
   "execution_count": 38,
   "metadata": {},
   "outputs": [],
   "source": [
    "from statistics import stdev\n",
    "def st_dev(arr):\n",
    "    \n",
    "    total_sum = sum_all(arr)\n",
    "    pop = 0\n",
    "    for i in arr:\n",
    "        pop +=1\n",
    "    \n",
    "    mean = total_sum/pop\n",
    "    \n",
    "    sq_sum = 0\n",
    "    \n",
    "    for i in arr:\n",
    "        sq_sum += (mean - i)**2\n",
    "    \n",
    "    std = (sq_sum/(pop-1))**0.5\n",
    "    return std\n",
    "    "
   ]
  },
  {
   "cell_type": "code",
   "execution_count": 39,
   "metadata": {},
   "outputs": [
    {
     "name": "stderr",
     "output_type": "stream",
     "text": [
      "....................................................................................................\n",
      "----------------------------------------------------------------------\n",
      "Ran 100 tests in 0.074s\n",
      "\n",
      "OK\n"
     ]
    }
   ],
   "source": [
    "# This will test your function \n",
    "test_stdev(st_dev)"
   ]
  },
  {
   "cell_type": "markdown",
   "metadata": {},
   "source": [
    "## 10. Write a function to check if a string is a pangram, i.e.: if it contains all the letters of the alphabet at least once. Mind that the strings may contain characters that are not letters."
   ]
  },
  {
   "cell_type": "code",
   "execution_count": 45,
   "metadata": {},
   "outputs": [],
   "source": [
    "from string import ascii_lowercase\n",
    "\n",
    "alphabet = ascii_lowercase\n",
    "\n",
    "def pangram(string):\n",
    "    string = string.lower()\n",
    "    \n",
    "    alpha_list = list(alphabet)\n",
    "    \n",
    "    for i in string:\n",
    "        if i in alphabet and i in alpha_list:\n",
    "            alpha_list.remove(i)\n",
    "        else:\n",
    "            continue\n",
    "    if len(alpha_list) == 0:\n",
    "        return True\n",
    "    else:\n",
    "        return False\n",
    "        \n",
    "        "
   ]
  },
  {
   "cell_type": "code",
   "execution_count": 46,
   "metadata": {},
   "outputs": [
    {
     "name": "stderr",
     "output_type": "stream",
     "text": [
      "..............................\n",
      "----------------------------------------------------------------------\n",
      "Ran 30 tests in 0.027s\n",
      "\n",
      "OK\n"
     ]
    }
   ],
   "source": [
    "# This will test your function \n",
    "test_pangram(pangram)"
   ]
  },
  {
   "cell_type": "markdown",
   "metadata": {},
   "source": [
    "## 11. Write a function that receives a string of comma separated words and returns a string of comma separated words sorted alphabetically.\n",
    "\n",
    "`NOTE: You may use sorted but not split and definitely no join! 🤪`"
   ]
  },
  {
   "cell_type": "code",
   "execution_count": 67,
   "metadata": {},
   "outputs": [],
   "source": [
    "def sort_alpha(string):\n",
    "    word_list = []\n",
    "    word =''\n",
    "    index = 0\n",
    "    string += ','\n",
    "    while index < len(string):\n",
    "        if string[index] == ',':\n",
    "            word_list.append(word)\n",
    "            word =''\n",
    "        else:\n",
    "            word += string[index]\n",
    "        index+=1\n",
    "    word_list.sort()\n",
    "    new = ''\n",
    "    for i in word_list:\n",
    "        new += i + ','\n",
    "    return new[:-1]\n",
    "        "
   ]
  },
  {
   "cell_type": "code",
   "execution_count": null,
   "metadata": {},
   "outputs": [],
   "source": []
  },
  {
   "cell_type": "code",
   "execution_count": 107,
   "metadata": {},
   "outputs": [
    {
     "name": "stderr",
     "output_type": "stream",
     "text": [
      "....................................................................................................\n",
      "----------------------------------------------------------------------\n",
      "Ran 100 tests in 0.058s\n",
      "\n",
      "OK\n"
     ]
    }
   ],
   "source": [
    "# This will test your function \n",
    "test_alpha(sort_alpha)"
   ]
  },
  {
   "cell_type": "markdown",
   "metadata": {},
   "source": [
    "## 12. Write a function to check if a given password is strong (at least 8 characters, at least one lower case, at least one upper case, at least one number and at least one special character). It should output True if strong and False if not.\n",
    "`Valid special characters: # @ ! $ % & ( ) ^ * [ ] { }`"
   ]
  },
  {
   "cell_type": "code",
   "execution_count": 108,
   "metadata": {},
   "outputs": [],
   "source": [
    "spec_char =  list('# @ ! $ % & ( ) ^ * [ ] { }'.replace(\" \",''))\n",
    "\n",
    "from string import ascii_lowercase\n",
    "\n",
    "lowerc = ascii_lowercase\n",
    "upperc = lowerc.upper()\n",
    "number = '1234567890'\n",
    "\n",
    "cases = [spec_char, lowerc, upperc,number]\n",
    "\n",
    "def check_case(case,string):\n",
    "    for i in string:\n",
    "        if i in case:\n",
    "            return True\n",
    "    return False\n",
    "\n",
    "\n",
    "\n",
    "\n",
    "\n",
    "def check_pass(string):\n",
    "    if len(string)<8:\n",
    "        return False\n",
    "    strength = [False,False,False,False]\n",
    "    \n",
    "    for i,j in enumerate(cases):\n",
    "        if check_case(j,string):\n",
    "            strength[i] = True\n",
    "    \n",
    "    if strength == [True,True,True,True]:\n",
    "        print(string,strength)\n",
    "        return True\n",
    "    \n",
    "    return False\n",
    "        \n",
    "        \n",
    "    \n",
    "    "
   ]
  },
  {
   "cell_type": "code",
   "execution_count": 109,
   "metadata": {},
   "outputs": [
    {
     "name": "stderr",
     "output_type": "stream",
     "text": [
      "....................................................................................................\n",
      "----------------------------------------------------------------------\n",
      "Ran 100 tests in 0.061s\n",
      "\n",
      "OK\n"
     ]
    },
    {
     "name": "stdout",
     "output_type": "stream",
     "text": [
      "0^uerWfgkR [True, True, True, True]\n",
      "B@z)pt1i)R [True, True, True, True]\n",
      "YtM0KdRDPPz^4U! [True, True, True, True]\n",
      "gcy2U@T12z [True, True, True, True]\n",
      "]mldMtxPN6(syS1 [True, True, True, True]\n",
      "XzXg&ij0d(n]EBeh [True, True, True, True]\n",
      "tl^aG(ryx3Q3$qb [True, True, True, True]\n",
      "[EY1cpZvVvp4Rvp [True, True, True, True]\n",
      "}u8tuE7nYxzDnk [True, True, True, True]\n",
      "Uxw77d*mdrsmTD [True, True, True, True]\n",
      "oCBZsrw2Q}B [True, True, True, True]\n",
      "bVBe0my]tnd [True, True, True, True]\n",
      "5mXafoxa^r [True, True, True, True]\n",
      "fid8l(zglwqG [True, True, True, True]\n",
      "zamRpO[G{Unmmg1M [True, True, True, True]\n",
      "fPi*nuzk^j1yo [True, True, True, True]\n",
      "Jb%aQ3BKR [True, True, True, True]\n",
      "0qcz}ut@1fN*Kzrf [True, True, True, True]\n",
      "4x)l6fsw1kI}PL [True, True, True, True]\n",
      "wDuUAgz{!oghd0ej [True, True, True, True]\n",
      "9aoqt(oT]C [True, True, True, True]\n",
      "gsU[wp3D [True, True, True, True]\n",
      "q#8y6sePpKAn [True, True, True, True]\n",
      "0jxtatEh4kP@r [True, True, True, True]\n",
      "%Ul]Kno@lw6Aypb [True, True, True, True]\n",
      "ruxvu*$X9kws [True, True, True, True]\n"
     ]
    }
   ],
   "source": [
    "# This will test your function \n",
    "test_pass(check_pass)"
   ]
  },
  {
   "cell_type": "code",
   "execution_count": null,
   "metadata": {},
   "outputs": [],
   "source": []
  },
  {
   "cell_type": "code",
   "execution_count": null,
   "metadata": {},
   "outputs": [],
   "source": []
  }
 ],
 "metadata": {
  "kernelspec": {
   "display_name": "Python 3 (ipykernel)",
   "language": "python",
   "name": "python3"
  },
  "language_info": {
   "codemirror_mode": {
    "name": "ipython",
    "version": 3
   },
   "file_extension": ".py",
   "mimetype": "text/x-python",
   "name": "python",
   "nbconvert_exporter": "python",
   "pygments_lexer": "ipython3",
   "version": "3.9.13"
  },
  "toc": {
   "base_numbering": 1,
   "nav_menu": {},
   "number_sections": true,
   "sideBar": true,
   "skip_h1_title": false,
   "title_cell": "Table of Contents",
   "title_sidebar": "Contents",
   "toc_cell": true,
   "toc_position": {},
   "toc_section_display": true,
   "toc_window_display": false
  },
  "varInspector": {
   "cols": {
    "lenName": 16,
    "lenType": 16,
    "lenVar": 40
   },
   "kernels_config": {
    "python": {
     "delete_cmd_postfix": "",
     "delete_cmd_prefix": "del ",
     "library": "var_list.py",
     "varRefreshCmd": "print(var_dic_list())"
    },
    "r": {
     "delete_cmd_postfix": ") ",
     "delete_cmd_prefix": "rm(",
     "library": "var_list.r",
     "varRefreshCmd": "cat(var_dic_list()) "
    }
   },
   "types_to_exclude": [
    "module",
    "function",
    "builtin_function_or_method",
    "instance",
    "_Feature"
   ],
   "window_display": false
  }
 },
 "nbformat": 4,
 "nbformat_minor": 4
}
